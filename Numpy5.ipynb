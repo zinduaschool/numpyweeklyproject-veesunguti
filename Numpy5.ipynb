{
 "cells": [
  {
   "cell_type": "markdown",
   "metadata": {},
   "source": [
    "# Numpy Exercise 5\n",
    "\n",
    "### All of the questions in this exercise are attributed to rougier/numpy-100"
   ]
  },
  {
   "cell_type": "code",
   "execution_count": 1,
   "metadata": {},
   "outputs": [],
   "source": [
    "import numpy as np"
   ]
  },
  {
   "cell_type": "markdown",
   "metadata": {},
   "source": [
    "#### 61. Find the nearest value from a given value in an array (★★☆)"
   ]
  },
  {
   "cell_type": "code",
   "execution_count": 2,
   "metadata": {},
   "outputs": [
    {
     "name": "stdout",
     "output_type": "stream",
     "text": [
      "4\n"
     ]
    }
   ],
   "source": [
    "def nearest_value(arr, val):\n",
    "    abs_diff = np.abs(arr - val)\n",
    "    idx = np.argmin(abs_diff)\n",
    "    return arr[idx]\n",
    "\n",
    "# Example usage\n",
    "arr = np.array([1, 4, 7, 9])\n",
    "val = 5\n",
    "print(nearest_value(arr, val))  "
   ]
  },
  {
   "cell_type": "markdown",
   "metadata": {},
   "source": [
    "#### 62. Considering two arrays with shape (1,3) and (3,1), how to compute their sum using an iterator? (★★☆)"
   ]
  },
  {
   "cell_type": "code",
   "execution_count": 3,
   "metadata": {},
   "outputs": [
    {
     "name": "stdout",
     "output_type": "stream",
     "text": [
      "63\n"
     ]
    }
   ],
   "source": [
    "# create two arrays with shape (1,3) and (3,1)\n",
    "a = np.array([[1, 2, 3]])\n",
    "b = np.array([[4], [5], [6]])\n",
    "\n",
    "# initialize the iterator\n",
    "it = np.nditer([a, b])\n",
    "\n",
    "# initialize the sum variable\n",
    "sum = 0\n",
    "\n",
    "# iterate over the arrays and compute the sum\n",
    "for x, y in it:\n",
    "    sum += x + y\n",
    "\n",
    "# print the sum\n",
    "print(sum)\n"
   ]
  },
  {
   "cell_type": "markdown",
   "metadata": {},
   "source": [
    "#### 63. Create an array class that has a name attribute (★★☆)"
   ]
  },
  {
   "cell_type": "code",
   "execution_count": 7,
   "metadata": {},
   "outputs": [
    {
     "name": "stdout",
     "output_type": "stream",
     "text": [
      "MyArray\n"
     ]
    }
   ],
   "source": [
    "import numpy as np\n",
    "\n",
    "class NamedArray(np.ndarray):\n",
    "    def __new__(cls, input_array, name='Unnamed'):\n",
    "        obj = np.asarray(input_array).view(cls)\n",
    "        obj.name = name\n",
    "        return obj\n",
    "\n",
    "a = NamedArray([1, 2, 3], name='MyArray')\n",
    "print(a.name)  \n",
    "\n",
    "\n"
   ]
  },
  {
   "cell_type": "markdown",
   "metadata": {},
   "source": [
    "#### 64. Consider a given vector, how to add 1 to each element indexed by a second vector (be careful with repeated indices)? (★★★)"
   ]
  },
  {
   "cell_type": "code",
   "execution_count": 9,
   "metadata": {},
   "outputs": [
    {
     "name": "stdout",
     "output_type": "stream",
     "text": [
      "[0 2 2 4 5]\n"
     ]
    }
   ],
   "source": [
    "# Example input vectors\n",
    "v1 = np.array([0, 1, 2, 3, 4])\n",
    "v2 = np.array([1, 3, 3, 4])\n",
    "\n",
    "# Get the unique indices from v2\n",
    "unique_indices = np.unique(v2)\n",
    "\n",
    "# Add 1 to the elements of v1 corresponding to unique_indices\n",
    "v1[unique_indices] += 1\n",
    "print(v1)"
   ]
  },
  {
   "cell_type": "markdown",
   "metadata": {},
   "source": [
    "#### 65. How to accumulate elements of a vector (X) to an array (F) based on an index list (I)? (★★★)"
   ]
  },
  {
   "cell_type": "code",
   "execution_count": 11,
   "metadata": {},
   "outputs": [
    {
     "name": "stdout",
     "output_type": "stream",
     "text": [
      "[1. 7. 7.]\n"
     ]
    }
   ],
   "source": [
    "# Create the input vector (X), index list (I), and output array (F)\n",
    "X = np.array([1, 2, 3, 4, 5])\n",
    "I = np.array([0, 1, 2, 2, 1])\n",
    "F = np.zeros(3)\n",
    "\n",
    "# Accumulate the elements of X into F based on the indices in I\n",
    "np.add.at(F, I, X)\n",
    "\n",
    "# Print the result\n",
    "print(F)\n"
   ]
  },
  {
   "cell_type": "markdown",
   "metadata": {},
   "source": [
    "#### 66. Considering a (w,h,3) image of (dtype=ubyte), compute the number of unique colors (★★☆)"
   ]
  },
  {
   "cell_type": "code",
   "execution_count": 12,
   "metadata": {},
   "outputs": [
    {
     "name": "stdout",
     "output_type": "stream",
     "text": [
      "Number of unique colors: 9995\n"
     ]
    }
   ],
   "source": [
    "# Load the image as a numpy array\n",
    "image = np.random.randint(0, 256, size=(100, 100, 3), dtype=np.uint8)\n",
    "\n",
    "# Reshape the image to a 2D array of shape (w*h, 3)\n",
    "image_2d = image.reshape((-1, 3))\n",
    "\n",
    "# Get the unique colors and their counts\n",
    "unique_colors, counts = np.unique(image_2d, axis=0, return_counts=True)\n",
    "\n",
    "# Print the number of unique colors\n",
    "print(f\"Number of unique colors: {len(unique_colors)}\")\n"
   ]
  },
  {
   "cell_type": "markdown",
   "metadata": {},
   "source": [
    "#### 67. Considering a four dimensions array, how to get sum over the last two axis at once? (★★★)"
   ]
  },
  {
   "cell_type": "code",
   "execution_count": 13,
   "metadata": {},
   "outputs": [
    {
     "name": "stdout",
     "output_type": "stream",
     "text": [
      "(2, 3)\n"
     ]
    }
   ],
   "source": [
    "# Create a 4D array with shape (2, 3, 4, 5)\n",
    "arr = np.random.rand(2, 3, 4, 5)\n",
    "\n",
    "# Sum over the last two axes\n",
    "sum_last_two_axes = np.sum(arr, axis=(-2, -1))\n",
    "\n",
    "print(sum_last_two_axes.shape)  # prints (2, 3, 4)"
   ]
  },
  {
   "cell_type": "markdown",
   "metadata": {},
   "source": [
    "#### 68. Considering a one-dimensional vector D, how to compute means of subsets of D using a vector S of same size describing subset  indices? (★★★)"
   ]
  },
  {
   "cell_type": "code",
   "execution_count": 14,
   "metadata": {},
   "outputs": [
    {
     "name": "stdout",
     "output_type": "stream",
     "text": [
      "[2.0, 5.0, 8.5]\n"
     ]
    }
   ],
   "source": [
    "D = np.array([1, 2, 3, 4, 5, 6, 7, 8, 9, 10])\n",
    "S = np.array([0, 0, 0, 1, 1, 1, 2, 2, 2, 2])\n",
    "\n",
    "unique_indices = np.unique(S)  # Get unique subset indices\n",
    "subset_sizes = np.bincount(S)  # Count elements in each subset\n",
    "\n",
    "# Compute means of each subset using a list comprehension\n",
    "subset_means = [np.mean(D[S == i]) for i in unique_indices]\n",
    "\n",
    "print(subset_means)\n"
   ]
  },
  {
   "cell_type": "markdown",
   "metadata": {},
   "source": [
    "#### 69. How to get the diagonal of a dot product? (★★★)"
   ]
  },
  {
   "cell_type": "code",
   "execution_count": 15,
   "metadata": {},
   "outputs": [
    {
     "name": "stdout",
     "output_type": "stream",
     "text": [
      "[1.1236485  2.26187132 0.93512837]\n"
     ]
    }
   ],
   "source": [
    "# create two arrays\n",
    "a = np.random.rand(3, 4)\n",
    "b = np.random.rand(4, 3)\n",
    "\n",
    "# compute dot product\n",
    "c = np.einsum('ij,jk->ik', a, b)\n",
    "\n",
    "# extract diagonal\n",
    "d = np.diagonal(c)\n",
    "\n",
    "print(d)"
   ]
  },
  {
   "cell_type": "markdown",
   "metadata": {},
   "source": [
    "#### 70. Consider the vector [1, 2, 3, 4, 5], how to build a new vector with 3 consecutive zeros interleaved between each value? (★★★)"
   ]
  },
  {
   "cell_type": "code",
   "execution_count": 16,
   "metadata": {},
   "outputs": [
    {
     "name": "stdout",
     "output_type": "stream",
     "text": [
      "[1. 1. 1. 1. 2. 2. 2. 2. 3. 3. 3. 3. 4. 4. 4. 4. 5. 5. 5. 0. 0. 0.]\n"
     ]
    }
   ],
   "source": [
    "# Input vector\n",
    "x = np.array([1, 2, 3, 4, 5])\n",
    "\n",
    "# Number of zeros to add between each value\n",
    "n_zeros = 3\n",
    "\n",
    "# Create an array of zeros\n",
    "zeros = np.zeros(n_zeros)\n",
    "\n",
    "# Repeat the input vector and interleave with zeros\n",
    "y = np.concatenate([np.repeat(x, n_zeros+1)[:-1], zeros])\n",
    "\n",
    "print(y)"
   ]
  },
  {
   "cell_type": "markdown",
   "metadata": {},
   "source": [
    "#### 71. Consider an array of dimension (5,5,3), how to mulitply it by an array with dimensions (5,5)? (★★★)"
   ]
  },
  {
   "cell_type": "code",
   "execution_count": 18,
   "metadata": {},
   "outputs": [
    {
     "name": "stdout",
     "output_type": "stream",
     "text": [
      "[[[3.61464535e-01 2.52112835e-01 4.86563358e-01]\n",
      "  [1.64544054e-01 1.07075069e-01 1.96157175e-05]\n",
      "  [5.77768796e-02 1.06577762e-01 1.00250652e-01]\n",
      "  [7.79306932e-02 7.67187122e-02 1.22695922e-01]\n",
      "  [2.97608950e-01 1.99127368e-01 1.70309522e-01]]\n",
      "\n",
      " [[3.67700756e-01 7.06965400e-01 5.48203426e-01]\n",
      "  [4.21755433e-01 2.76105764e-01 1.08581200e-01]\n",
      "  [2.81883470e-01 1.65188496e-01 4.24012952e-01]\n",
      "  [2.43616843e-01 2.51467671e-01 4.93087622e-02]\n",
      "  [2.22456861e-01 3.08388893e-01 2.63503348e-01]]\n",
      "\n",
      " [[7.86890907e-01 6.54121204e-01 3.93558489e-01]\n",
      "  [4.31609343e-02 3.99129885e-01 4.49896947e-01]\n",
      "  [1.40941848e-01 1.97135841e-01 2.01979157e-01]\n",
      "  [1.80314095e-03 1.72770130e-02 6.41619761e-03]\n",
      "  [1.25164447e-02 8.18087342e-02 8.51453073e-02]]\n",
      "\n",
      " [[2.59527986e-01 5.76692697e-01 7.30841736e-01]\n",
      "  [3.40388779e-01 1.80081423e-01 4.21703034e-01]\n",
      "  [6.58659760e-01 5.77688666e-02 4.75420946e-01]\n",
      "  [3.85394602e-01 5.40019590e-01 7.10449111e-01]\n",
      "  [2.32518140e-02 1.96288735e-01 4.23618425e-01]]\n",
      "\n",
      " [[6.04473965e-02 5.32321443e-02 8.05359863e-02]\n",
      "  [3.31126057e-05 3.47410264e-05 2.92460594e-05]\n",
      "  [2.34805243e-01 3.75191282e-01 1.19626709e-01]\n",
      "  [6.48083734e-01 2.64095985e-01 3.80133021e-02]\n",
      "  [3.19171636e-01 2.19043926e-01 3.27024792e-01]]]\n"
     ]
    }
   ],
   "source": [
    "# create a 5x5x3 array\n",
    "a = np.random.rand(5, 5, 3)\n",
    "\n",
    "# create a 5x5 array\n",
    "b = np.random.rand(5, 5)\n",
    "\n",
    "# multiply the two arrays using broadcasting\n",
    "c = a * b[:, :, np.newaxis]\n",
    "\n",
    "# c is now a 5x5x3 array, where each element in the last dimension is\n",
    "# multiplied by the corresponding element in the (5,5) array.\n",
    "print(c)\n"
   ]
  },
  {
   "cell_type": "markdown",
   "metadata": {},
   "source": [
    "#### 72. How to swap two rows of an array? (★★★)"
   ]
  },
  {
   "cell_type": "code",
   "execution_count": 19,
   "metadata": {},
   "outputs": [
    {
     "name": "stdout",
     "output_type": "stream",
     "text": [
      "[[ 9 10 11 12]\n",
      " [ 5  6  7  8]\n",
      " [ 1  2  3  4]]\n"
     ]
    }
   ],
   "source": [
    "# create a 2D array with 3 rows and 4 columns\n",
    "arr = np.array([[1, 2, 3, 4],\n",
    "                [5, 6, 7, 8],\n",
    "                [9, 10, 11, 12]])\n",
    "\n",
    "# swap rows 0 and 2\n",
    "temp = arr[0].copy()\n",
    "arr[0] = arr[2]\n",
    "arr[2] = temp\n",
    "\n",
    "print(arr)\n"
   ]
  },
  {
   "cell_type": "markdown",
   "metadata": {},
   "source": [
    "#### 73. Consider a set of 10 triplets describing 10 triangles (with shared vertices), find the set of unique line segments composing all the  triangles (★★★)"
   ]
  },
  {
   "cell_type": "code",
   "execution_count": 21,
   "metadata": {},
   "outputs": [
    {
     "name": "stdout",
     "output_type": "stream",
     "text": [
      "[[[0 0]\n",
      "  [0 1]]\n",
      "\n",
      " [[0 0]\n",
      "  [1 0]]\n",
      "\n",
      " [[0 0]\n",
      "  [1 1]]\n",
      "\n",
      " [[0 1]\n",
      "  [1 1]]\n",
      "\n",
      " [[1 0]\n",
      "  [1 1]]]\n"
     ]
    }
   ],
   "source": [
    "import numpy as np\n",
    "\n",
    "# Set of 10 triangles as triplets of vertices\n",
    "triangles = np.array([\n",
    "    [(0, 0), (1, 1), (0, 1)],\n",
    "    [(1, 1), (0, 0), (1, 0)],\n",
    "    [(0, 0), (1, 0), (1, 1)],\n",
    "    [(0, 0), (1, 1), (1, 0)],\n",
    "    [(1, 1), (0, 1), (1, 0)],\n",
    "    [(0, 0), (0, 1), (1, 1)],\n",
    "    [(0, 0), (1, 1), (0, 1)],\n",
    "    [(1, 1), (0, 0), (1, 0)],\n",
    "    [(0, 0), (1, 0), (1, 1)],\n",
    "    [(0, 0), (1, 1), (1, 0)]\n",
    "])\n",
    "\n",
    "# Compute line segments of each triangle\n",
    "segments = np.concatenate((triangles[:, :2], triangles[:, 1:], triangles[:, ::2]), axis=0)\n",
    "\n",
    "# Sort the line segments to find the unique ones\n",
    "segments.sort(axis=1)\n",
    "unique_segments = np.unique(segments, axis=0)\n",
    "\n",
    "print(unique_segments)\n"
   ]
  },
  {
   "cell_type": "markdown",
   "metadata": {},
   "source": [
    "#### 74. Given a sorted array C that corresponds to a bincount, how to produce an array A such that np.bincount(A) == C? (★★★)"
   ]
  },
  {
   "cell_type": "code",
   "execution_count": 26,
   "metadata": {},
   "outputs": [],
   "source": [
    "import numpy as np\n",
    "\n",
    "def sliding_average(arr, window_size):\n",
    "    # Define the sliding window as an array of ones\n",
    "    window = np.ones(window_size, dtype=int)\n",
    "    \n",
    "    # Convolve the input array with the sliding window\n",
    "    convolved = np.convolve(arr, window, mode='valid')\n",
    "    \n",
    "    # Divide the result by the window size to obtain the averages\n",
    "    averages = convolved / window_size\n",
    "    \n",
    "    return averages\n"
   ]
  },
  {
   "cell_type": "code",
   "execution_count": 23,
   "metadata": {},
   "outputs": [
    {
     "name": "stdout",
     "output_type": "stream",
     "text": [
      "[0 1 2 3 0 2 1 0 1 2]\n",
      "True\n"
     ]
    }
   ],
   "source": [
    "# Example sorted bincount array\n",
    "C = np.array([0, 1, 2, 3, 0, 2, 1, 0, 1, 2])\n",
    "\n",
    "# Generate the corresponding array A\n",
    "A = np.repeat(np.arange(len(C)), C)\n",
    "\n",
    "# Verify that np.bincount(A) == C\n",
    "print(np.bincount(A))  \n",
    "print(np.array_equal(np.bincount(A), C))  \n",
    "\n"
   ]
  },
  {
   "cell_type": "markdown",
   "metadata": {},
   "source": [
    "#### 75. How to compute averages using a sliding window over an array? (★★★)"
   ]
  },
  {
   "cell_type": "code",
   "execution_count": 24,
   "metadata": {},
   "outputs": [],
   "source": [
    "def sliding_average(arr, window_size):\n",
    "    # Define the sliding window as an array of ones\n",
    "    window = np.ones(window_size, dtype=int)\n",
    "    \n",
    "    # Convolve the input array with the sliding window\n",
    "    convolved = np.convolve(arr, window, mode='valid')\n",
    "    \n",
    "    # Divide the result by the window size to obtain the averages\n",
    "    averages = convolved / window_size\n",
    "    \n",
    "    return averages\n"
   ]
  },
  {
   "cell_type": "code",
   "execution_count": 25,
   "metadata": {},
   "outputs": [
    {
     "name": "stdout",
     "output_type": "stream",
     "text": [
      "[2. 3. 4. 5. 6. 7. 8.]\n"
     ]
    }
   ],
   "source": [
    "def sliding_window_average(arr, window_size):\n",
    "    # Create a sliding window view of the input array\n",
    "    shape = arr.shape[:-1] + (arr.shape[-1] - window_size + 1, window_size)\n",
    "    strides = arr.strides + (arr.strides[-1],)\n",
    "    window_view = np.lib.stride_tricks.as_strided(arr, shape=shape, strides=strides)\n",
    "    \n",
    "    # Compute the average of each window\n",
    "    return np.mean(window_view, axis=-1)\n",
    "arr = np.array([1, 2, 3, 4, 5, 6, 7, 8, 9])\n",
    "window_size = 3\n",
    "result = sliding_window_average(arr, window_size)\n",
    "print(result)\n"
   ]
  },
  {
   "cell_type": "markdown",
   "metadata": {},
   "source": [
    "#### 76. Consider a one-dimensional array Z, build a two-dimensional array whose first row is (Z[0],Z[1],Z[2]) and each subsequent row is  shifted by 1 (last row should be (Z[-3],Z[-2],Z[-1]) (★★★)"
   ]
  },
  {
   "cell_type": "code",
   "execution_count": 27,
   "metadata": {},
   "outputs": [
    {
     "name": "stdout",
     "output_type": "stream",
     "text": [
      "[[1 2 3 4 5]\n",
      " [2 3 4 5 6]\n",
      " [3 4 5 6 7]]\n"
     ]
    }
   ],
   "source": [
    "def sliding_window(arr, size):\n",
    "    \"\"\"Return a sliding window view of the input array.\"\"\"\n",
    "    shape = (arr.size - size + 1, size)\n",
    "    strides = arr.strides * 2\n",
    "    return np.lib.stride_tricks.as_strided(arr, shape=shape, strides=strides)\n",
    "\n",
    "# Example usage\n",
    "Z = np.array([1, 2, 3, 4, 5, 6, 7])\n",
    "window_size = 3\n",
    "Z_2d = sliding_window(Z, window_size)\n",
    "result = Z_2d.T\n",
    "\n",
    "print(result)\n"
   ]
  },
  {
   "cell_type": "markdown",
   "metadata": {},
   "source": [
    "#### 77. How to negate a boolean, or to change the sign of a float inplace? (★★★)"
   ]
  },
  {
   "cell_type": "code",
   "execution_count": 28,
   "metadata": {},
   "outputs": [
    {
     "name": "stdout",
     "output_type": "stream",
     "text": [
      "[False  True False]\n"
     ]
    }
   ],
   "source": [
    "#negate a boolean array\n",
    "a = np.array([True, False, True])\n",
    "negated_a = ~a\n",
    "print(negated_a)"
   ]
  },
  {
   "cell_type": "code",
   "execution_count": 29,
   "metadata": {},
   "outputs": [
    {
     "name": "stdout",
     "output_type": "stream",
     "text": [
      "[-1.  2. -3.]\n"
     ]
    }
   ],
   "source": [
    "#change the sign of a float array inplace\n",
    "a = np.array([1.0, -2.0, 3.0])\n",
    "a *= -1\n",
    "print(a)  "
   ]
  },
  {
   "cell_type": "code",
   "execution_count": 30,
   "metadata": {},
   "outputs": [
    {
     "name": "stdout",
     "output_type": "stream",
     "text": [
      "[-1.  2. -3.]\n"
     ]
    }
   ],
   "source": [
    "#create a new array with the negated values\n",
    "a = np.array([1.0, -2.0, 3.0])\n",
    "negated_a = np.negative(a)\n",
    "print(negated_a)"
   ]
  },
  {
   "cell_type": "markdown",
   "metadata": {},
   "source": [
    "#### 78. Consider 2 sets of points P0,P1 describing lines (2d) and a point p, how to compute distance from p to each line i (P0[i],P1[i])? (★★★)"
   ]
  },
  {
   "cell_type": "code",
   "execution_count": 35,
   "metadata": {},
   "outputs": [],
   "source": [
    "import numpy as np\n",
    "\n",
    "def distance_to_lines(P0, P1, p):\n",
    "    \"\"\"\n",
    "    Compute distance from a point to each line segment defined by P0 and P1.\n",
    "    P0 and P1 have shape (n, 2) and p has shape (2,).\n",
    "    Returns an array of shape (n,) with the distances.\n",
    "    \"\"\"\n",
    "    # Compute direction of lines\n",
    "    d = P1 - P0\n",
    "    \n",
    "    # Compute denominator\n",
    "    den = np.linalg.norm(d, axis=1)\n",
    "    \n",
    "    # Compute numerator\n",
    "    num = np.abs(np.cross(d, P0-p, axis=1))\n",
    "    \n",
    "    # Compute distances\n",
    "    dist = num / den\n",
    "    \n",
    "    return dist\n",
    "\n"
   ]
  },
  {
   "cell_type": "code",
   "execution_count": 36,
   "metadata": {},
   "outputs": [
    {
     "name": "stdout",
     "output_type": "stream",
     "text": [
      "[0.5 0.5 nan]\n"
     ]
    },
    {
     "name": "stderr",
     "output_type": "stream",
     "text": [
      "C:\\Users\\user\\AppData\\Local\\Temp\\ipykernel_11452\\3196574999.py:19: RuntimeWarning: invalid value encountered in divide\n",
      "  dist = num / den\n"
     ]
    }
   ],
   "source": [
    "# Define line segment endpoints\n",
    "P0 = np.array([[0, 0], [1, 0], [0, 1]])\n",
    "P1 = np.array([[1, 0], [1, 1], [0, 1]])\n",
    "\n",
    "# Define point\n",
    "p = np.array([0.5, 0.5])\n",
    "\n",
    "# Calculate distances\n",
    "dist = distance_to_lines(P0, P1, p)\n",
    "\n",
    "print(dist)\n"
   ]
  },
  {
   "cell_type": "markdown",
   "metadata": {},
   "source": [
    "#### 79. Consider 2 sets of points P0,P1 describing lines (2d) and a set of points P, how to compute distance from each point j (P[j]) to each line i (P0[i],P1[i])? (★★★)"
   ]
  },
  {
   "cell_type": "code",
   "execution_count": 37,
   "metadata": {},
   "outputs": [],
   "source": [
    "def distance_to_lines(P0, P1, P):\n",
    "    \"\"\"\n",
    "    Compute distance from each point in P to each line segment defined by P0 and P1.\n",
    "    P0 and P1 have shape (n, 2) and P has shape (m, 2).\n",
    "    Returns an array of shape (m, n) with the distances.\n",
    "    \"\"\"\n",
    "    # Compute direction of lines\n",
    "    d = P1 - P0\n",
    "    \n",
    "    # Compute denominator\n",
    "    den = np.linalg.norm(d, axis=1)\n",
    "    \n",
    "    # Compute numerator\n",
    "    v = P - P0[:,np.newaxis]\n",
    "    num = np.abs(np.cross(d[:,np.newaxis], v, axis=2))\n",
    "    \n",
    "    # Compute distances\n",
    "    dist = num / den[:,np.newaxis]\n",
    "    \n",
    "    # Find minimum distance for each point\n",
    "    min_dist = np.min(dist, axis=0)\n",
    "    \n",
    "    return min_dist\n"
   ]
  },
  {
   "cell_type": "code",
   "execution_count": 38,
   "metadata": {},
   "outputs": [
    {
     "name": "stdout",
     "output_type": "stream",
     "text": [
      "[0.5 0.  0.  0. ]\n"
     ]
    }
   ],
   "source": [
    "# Define lines and points\n",
    "P0 = np.array([[0,0], [1,0], [1,1]])\n",
    "P1 = np.array([[1,0], [1,1], [0,1]])\n",
    "P = np.array([[0.5,0.5], [1,0], [0,0], [1,1]])\n",
    "\n",
    "# Compute distances\n",
    "dist = distance_to_lines(P0, P1, P)\n",
    "\n",
    "print(dist)\n"
   ]
  },
  {
   "cell_type": "markdown",
   "metadata": {},
   "source": [
    "#### 80. Consider an arbitrary array, write a function that extract a subpart with a fixed shape and centered on a given element (pad with a `fill` value when necessary) (★★★)"
   ]
  },
  {
   "cell_type": "code",
   "execution_count": 41,
   "metadata": {},
   "outputs": [],
   "source": [
    "def extract_subpart(arr, center, shape, fill=0):\n",
    "    \"\"\"\n",
    "    Extract a subpart of the input array with a fixed shape, centered on a given element.\n",
    "    Pad the subpart with a fill value when necessary.\n",
    "    \"\"\"\n",
    "    # Compute the starting and ending indices of the subpart\n",
    "    start = np.subtract(center, np.divide(shape, 2)).astype(int)\n",
    "    end = np.add(start, shape).astype(int)\n",
    "    \n",
    "    # Compute the slices to extract the subpart\n",
    "    slices = tuple(slice(max(0, s), e) for s, e in zip(start, end))\n",
    "    \n",
    "    # Initialize a new array with the fill value\n",
    "    subpart = np.full(shape, fill, dtype=arr.dtype)\n",
    "    \n",
    "    # Compute the overlapping region of the subpart and the input array\n",
    "    overlap_slices = tuple(slice(max(-s, 0), min(e - s, d))\n",
    "                           for s, e, d in zip(start, end, arr.shape))\n",
    "    \n",
    "    # Copy the overlapping region of the input array into the subpart\n",
    "    subpart[overlap_slices] = arr[slices][overlap_slices]\n",
    "    \n",
    "    return subpart\n"
   ]
  },
  {
   "cell_type": "code",
   "execution_count": 42,
   "metadata": {},
   "outputs": [
    {
     "name": "stdout",
     "output_type": "stream",
     "text": [
      "[[ 0  1  2]\n",
      " [ 5  6  7]\n",
      " [10 11 12]]\n"
     ]
    }
   ],
   "source": [
    "arr = np.arange(25).reshape((5, 5))\n",
    "center = np.array([2, 2])\n",
    "shape = np.array([3, 3])\n",
    "\n",
    "subpart = extract_subpart(arr, center, shape, fill=-1)\n",
    "print(subpart)\n"
   ]
  },
  {
   "cell_type": "markdown",
   "metadata": {},
   "source": [
    "#### 81. Consider an array Z = [1,2,3,4,5,6,7,8,9,10,11,12,13,14], how to generate an array R = [[1,2,3,4], [2,3,4,5], [3,4,5,6], ..., [11,12,13,14]]? (★★★)"
   ]
  },
  {
   "cell_type": "code",
   "execution_count": 45,
   "metadata": {},
   "outputs": [
    {
     "name": "stdout",
     "output_type": "stream",
     "text": [
      "[[ 1  2  3  4]\n",
      " [ 2  3  4  5]\n",
      " [ 3  4  5  6]\n",
      " [ 4  5  6  7]\n",
      " [ 5  6  7  8]\n",
      " [ 6  7  8  9]\n",
      " [ 7  8  9 10]\n",
      " [ 8  9 10 11]\n",
      " [ 9 10 11 12]\n",
      " [10 11 12 13]\n",
      " [11 12 13 14]]\n"
     ]
    }
   ],
   "source": [
    "Z = np.array([1,2,3,4,5,6,7,8,9,10,11,12,13,14])\n",
    "n = 4  # number of elements per row in R\n",
    "R = np.lib.stride_tricks.as_strided(Z, shape=(Z.size-n+1, n), strides=(Z.itemsize, Z.itemsize))\n",
    "print(R)"
   ]
  },
  {
   "cell_type": "markdown",
   "metadata": {},
   "source": [
    "#### 82. Compute a matrix rank (★★★)"
   ]
  },
  {
   "cell_type": "code",
   "execution_count": 47,
   "metadata": {},
   "outputs": [
    {
     "name": "stdout",
     "output_type": "stream",
     "text": [
      "The rank of matrix A is: 2\n"
     ]
    }
   ],
   "source": [
    "A = np.array([[1, 2, 3],\n",
    "              [4, 5, 6],\n",
    "              [7, 8, 9]])\n",
    "\n",
    "rank = np.linalg.matrix_rank(A)\n",
    "print(\"The rank of matrix A is:\", rank)\n"
   ]
  },
  {
   "cell_type": "markdown",
   "metadata": {},
   "source": [
    "#### 83. How to find the most frequent value in an array?"
   ]
  },
  {
   "cell_type": "code",
   "execution_count": 48,
   "metadata": {},
   "outputs": [
    {
     "name": "stdout",
     "output_type": "stream",
     "text": [
      "The most frequent value is: 2\n"
     ]
    }
   ],
   "source": [
    "# Create an example array\n",
    "arr = np.array([1, 2, 3, 4, 2, 3, 2, 1, 2, 3, 3])\n",
    "\n",
    "# Compute the bin counts\n",
    "counts = np.bincount(arr)\n",
    "\n",
    "# Find the index of the maximum count\n",
    "most_frequent_value = np.argmax(counts)\n",
    "\n",
    "# Print the result\n",
    "print(\"The most frequent value is:\", most_frequent_value)\n"
   ]
  },
  {
   "cell_type": "markdown",
   "metadata": {},
   "source": [
    "#### 84. Extract all the contiguous 3x3 blocks from a random 10x10 matrix (★★★)"
   ]
  },
  {
   "cell_type": "code",
   "execution_count": null,
   "metadata": {},
   "outputs": [],
   "source": [
    "# Generate a random 10x10 matrix\n",
    "matrix = np.random.rand(10, 10)\n",
    "\n",
    "# Extract all the contiguous 3x3 blocks\n",
    "blocks = np.lib.stride_tricks.as_strided(matrix, shape=(8, 8, 3, 3), strides=matrix.strides * 2)\n",
    "\n",
    "# Print the result\n",
    "print(blocks)\n"
   ]
  },
  {
   "cell_type": "markdown",
   "metadata": {},
   "source": [
    "#### 85. Create a 2D array subclass such that Z[i,j] == Z[j,i] (★★★)"
   ]
  },
  {
   "cell_type": "code",
   "execution_count": 54,
   "metadata": {},
   "outputs": [
    {
     "name": "stdout",
     "output_type": "stream",
     "text": [
      "5\n",
      "5\n",
      "[[1 2 4]\n",
      " [2 4 5]\n",
      " [4 5 6]]\n"
     ]
    }
   ],
   "source": [
    "import numpy as np\n",
    "#create a new SymmetricArray and enforce the symmetry property.\n",
    "class SymmetricArray(np.ndarray):\n",
    "    def __new__(cls, input_array):\n",
    "        obj = np.asarray(input_array).view(cls)\n",
    "        return obj\n",
    "\n",
    "    def __setitem__(self, key, value):\n",
    "        i, j = key\n",
    "        super(SymmetricArray, self).__setitem__((i, j), value)\n",
    "        super(SymmetricArray, self).__setitem__((j, i), value)\n",
    "\n",
    "#create a SymmetricArray object from a regular 2D numpy array \n",
    "a = np.array([[1, 2, 3], [2, 4, 5], [3, 5, 6]])\n",
    "sa = SymmetricArray(a)\n",
    "\n",
    "#access and set elements in the SymmetricArray object\n",
    "print(sa[1, 2])  # 5\n",
    "print(sa[2, 1])  # 5\n",
    "\n",
    "sa[0, 2] = 4\n",
    "print(sa)\n"
   ]
  },
  {
   "cell_type": "markdown",
   "metadata": {},
   "source": [
    "#### 86. Consider a set of p matrices wich shape (n,n) and a set of p vectors with shape (n,1). How to compute the sum of of the p matrix products at once? (result has shape (n,1)) (★★★)"
   ]
  },
  {
   "cell_type": "code",
   "execution_count": 58,
   "metadata": {},
   "outputs": [
    {
     "name": "stdout",
     "output_type": "stream",
     "text": [
      "(2, 2) (2, 1) (2, 2)\n",
      "[[100]\n",
      " [144]]\n"
     ]
    }
   ],
   "source": [
    "# Define matrices and vectors\n",
    "A = np.array([[1, 2], [3, 4]])\n",
    "B = np.array([[5], [6]])\n",
    "C = np.array([[7, 8], [9, 10]])\n",
    "\n",
    "# Check dimensions\n",
    "print(A.shape, B.shape, C.shape)\n",
    "\n",
    "# Compute sum of matrix products\n",
    "result = A @ B + C @ B\n",
    "\n",
    "# Print result\n",
    "print(result)\n"
   ]
  },
  {
   "cell_type": "markdown",
   "metadata": {},
   "source": [
    "#### 87. Consider a 16x16 array, how to get the block-sum (block size is 4x4)? (★★★)"
   ]
  },
  {
   "cell_type": "code",
   "execution_count": 59,
   "metadata": {},
   "outputs": [
    {
     "name": "stdout",
     "output_type": "stream",
     "text": [
      "[[ 120  376  632  888]\n",
      " [1144 1400 1656 1912]\n",
      " [2168 2424 2680 2936]\n",
      " [3192 3448 3704 3960]]\n"
     ]
    }
   ],
   "source": [
    "# Create a 16x16 array\n",
    "arr = np.arange(256).reshape((16,16))\n",
    "\n",
    "# Reshape the array into a 4D array of blocks\n",
    "blocks = arr.reshape((4,4,4,4))\n",
    "\n",
    "# Compute the block-sum by summing over the last two dimensions\n",
    "block_sum = np.sum(blocks, axis=(2,3))\n",
    "\n",
    "print(block_sum)\n"
   ]
  },
  {
   "cell_type": "markdown",
   "metadata": {},
   "source": [
    "#### 88. How to implement the Game of Life using numpy arrays? (★★★)"
   ]
  },
  {
   "cell_type": "code",
   "execution_count": null,
   "metadata": {},
   "outputs": [],
   "source": [
    "def compute_next_generation(grid):\n",
    "    # Compute the number of live neighbors for each cell\n",
    "    neighbors_count = np.zeros_like(grid)\n",
    "    neighbors_count[1:,1:] += grid[:-1,:-1]\n",
    "    neighbors_count[1:,:] += grid[:-1,:]\n",
    "    neighbors_count[1:,:-1] += grid[:-1,1:]\n",
    "    neighbors_count[:-1,1:] += grid[1:,:-1]\n",
    "    neighbors_count[:-1,:] += grid[1:,:]\n",
    "    neighbors_count[:-1,:-1] += grid[1:,1:]\n",
    "    \n",
    "    # Compute the next state of each cell based on the number of live neighbors\n",
    "    next_grid = np.zeros_like(grid)\n",
    "    next_grid[np.logical_and(grid == 1, neighbors_count >= 2)] = 1\n",
    "    next_grid[np.logical_and(grid == 1, neighbors_count <= 3)] = 1\n",
    "    next_grid[np.logical_and(grid == 0, neighbors_count == 3)] = 1\n",
    "    \n",
    "    return next_grid\n",
    "\n",
    "# Define the initial state of the grid\n",
    "grid = np.zeros((20, 20))\n",
    "grid[5:8, 5:8] = np.array([[0, 1, 0], [0, 0, 1], [1, 1, 1]])\n",
    "\n",
    "# Simulate the game for 100 steps\n",
    "for i in range(100):\n",
    "    print(grid)\n",
    "    grid = compute_next_generation(grid)\n"
   ]
  },
  {
   "cell_type": "markdown",
   "metadata": {},
   "source": [
    "#### 89. How to get the n largest values of an array (★★★)"
   ]
  },
  {
   "cell_type": "code",
   "execution_count": 61,
   "metadata": {},
   "outputs": [
    {
     "name": "stdout",
     "output_type": "stream",
     "text": [
      "[ 8  9 10]\n"
     ]
    }
   ],
   "source": [
    "arr = np.array([1, 3, 2, 4, 5, 7, 6, 8, 9, 10])\n",
    "\n",
    "n = 3 # get 3 largest values\n",
    "\n",
    "largest_n_values = np.partition(arr, -n)[-n:]\n",
    "\n",
    "print(largest_n_values)\n"
   ]
  },
  {
   "cell_type": "markdown",
   "metadata": {},
   "source": [
    "#### 90. Given an arbitrary number of vectors, build the cartesian product (every combinations of every item) (★★★)"
   ]
  },
  {
   "cell_type": "code",
   "execution_count": 62,
   "metadata": {},
   "outputs": [
    {
     "name": "stdout",
     "output_type": "stream",
     "text": [
      "[(1, 4, 6), (1, 4, 7), (1, 4, 8), (1, 5, 6), (1, 5, 7), (1, 5, 8), (2, 4, 6), (2, 4, 7), (2, 4, 8), (2, 5, 6), (2, 5, 7), (2, 5, 8), (3, 4, 6), (3, 4, 7), (3, 4, 8), (3, 5, 6), (3, 5, 7), (3, 5, 8)]\n"
     ]
    }
   ],
   "source": [
    "import itertools\n",
    "\n",
    "vectors = [[1, 2, 3], [4, 5], [6, 7, 8]]\n",
    "cartesian_product = list(itertools.product(*vectors))\n",
    "\n",
    "print(cartesian_product)\n"
   ]
  },
  {
   "cell_type": "markdown",
   "metadata": {},
   "source": [
    "#### 91. How to create a record array from a regular array? (★★★)"
   ]
  },
  {
   "cell_type": "code",
   "execution_count": 63,
   "metadata": {},
   "outputs": [
    {
     "name": "stdout",
     "output_type": "stream",
     "text": [
      "[[(1, 2, 3)]\n",
      " [(4, 5, 6)]]\n"
     ]
    }
   ],
   "source": [
    "# Create a regular NumPy array\n",
    "data = np.array([(1, 2, 3), (4, 5, 6)], dtype=np.int32)\n",
    "\n",
    "# Define the record datatype with fields\n",
    "dt = np.dtype([('field1', 'i4'), ('field2', 'i4'), ('field3', 'i4')])\n",
    "\n",
    "# Create a record array from the regular array\n",
    "record_array = np.rec.array(data, dtype=dt)\n",
    "\n",
    "# Print the record array\n",
    "print(record_array)\n"
   ]
  },
  {
   "cell_type": "markdown",
   "metadata": {},
   "source": [
    "#### 92. Consider a large vector Z, compute Z to the power of 3 using 3 different methods (★★★)"
   ]
  },
  {
   "cell_type": "code",
   "execution_count": 64,
   "metadata": {},
   "outputs": [],
   "source": [
    "#Using the np.power() function:\n",
    "Z_cube = np.power(Z, 3)\n",
    "\n",
    "#Using the * operator to perform element-wise multiplication:\n",
    "Z_cubed = Z * Z * Z\n",
    "\n",
    "\n",
    "#Using the numpy.dot() function to perform matrix multiplication:\n",
    "Z_cubed = np.dot(np.dot(Z, Z), Z)\n",
    "\n"
   ]
  },
  {
   "cell_type": "code",
   "execution_count": 66,
   "metadata": {},
   "outputs": [
    {
     "name": "stdout",
     "output_type": "stream",
     "text": [
      "Method 1 result: [5.21196687e-03 6.26587564e-01 5.39773321e-01 2.03117898e-01\n",
      " 5.94206736e-02 2.37692457e-01 3.75731086e-02 9.73648673e-03\n",
      " 2.32048593e-04 3.44226914e-01]\n",
      "Method 2 result: [5.21196687e-03 6.26587564e-01 5.39773321e-01 2.03117898e-01\n",
      " 5.94206736e-02 2.37692457e-01 3.75731086e-02 9.73648673e-03\n",
      " 2.32048593e-04 3.44226914e-01]\n",
      "Method 3 result: [5.21196687e-03 6.26587564e-01 5.39773321e-01 2.03117898e-01\n",
      " 5.94206736e-02 2.37692457e-01 3.75731086e-02 9.73648673e-03\n",
      " 2.32048593e-04 3.44226914e-01]\n"
     ]
    }
   ],
   "source": [
    "# Create a large vector\n",
    "Z = np.random.rand(1000000)\n",
    "\n",
    "# Method 1\n",
    "def method1(Z):\n",
    "    return Z*Z*Z\n",
    "\n",
    "Z_power_3 = method1(Z)\n",
    "print(f\"Method 1 result: {Z_power_3[:10]}\")\n",
    "\n",
    "# Method 2\n",
    "def method2(Z):\n",
    "    return np.power(Z, 3)\n",
    "\n",
    "Z_power_3 = method2(Z)\n",
    "print(f\"Method 2 result: {Z_power_3[:10]}\")\n",
    "\n",
    "# Method 3\n",
    "def method3(Z):\n",
    "    return np.multiply(np.multiply(Z, Z), Z)\n",
    "\n",
    "Z_power_3 = method3(Z)\n",
    "print(f\"Method 3 result: {Z_power_3[:10]}\")\n"
   ]
  },
  {
   "cell_type": "markdown",
   "metadata": {},
   "source": [
    "#### 93. Consider two arrays A and B of shape (8,3) and (2,2). How to find rows of A that contain elements of each row of B regardless of the order of the elements in B? (★★★)"
   ]
  },
  {
   "cell_type": "code",
   "execution_count": 67,
   "metadata": {},
   "outputs": [
    {
     "name": "stdout",
     "output_type": "stream",
     "text": [
      "[ 0  2  9 11]\n"
     ]
    }
   ],
   "source": [
    "# Sample data\n",
    "A = np.array([[1, 2, 3], [2, 3, 4], [3, 4, 5], [4, 5, 6],\n",
    "              [5, 6, 7], [6, 7, 8], [7, 8, 9], [8, 9, 10]])\n",
    "B = np.array([[3, 2], [7, 6]])\n",
    "\n",
    "# Create sets of rows for each array\n",
    "set_A = [set(row) for row in A]\n",
    "set_B = [set(row) for row in B]\n",
    "\n",
    "# Find the intersection of the sets of each row of B with the sets of each row of A\n",
    "intersections = [set_A[i] & set_B[j] for i in range(A.shape[0]) for j in range(B.shape[0])]\n",
    "\n",
    "# Find the rows of A that have non-empty intersection with all rows of B\n",
    "result = np.array([i for i, intersection in enumerate(intersections) if len(intersection) == B.shape[1]])\n",
    "\n",
    "print(result)\n"
   ]
  },
  {
   "cell_type": "markdown",
   "metadata": {},
   "source": [
    "#### 94. Considering a 10x3 matrix, extract rows with unequal values (e.g. [2,2,3]) (★★★)"
   ]
  },
  {
   "cell_type": "code",
   "execution_count": 68,
   "metadata": {},
   "outputs": [
    {
     "name": "stdout",
     "output_type": "stream",
     "text": [
      "Original matrix:\n",
      " [[2 2 1]\n",
      " [2 0 1]\n",
      " [1 1 0]\n",
      " [2 0 0]\n",
      " [0 0 2]\n",
      " [1 2 2]\n",
      " [2 1 1]\n",
      " [1 2 0]\n",
      " [1 2 0]\n",
      " [2 2 2]]\n",
      "Rows with unequal values:\n",
      " [[2 2 1]\n",
      " [2 0 1]\n",
      " [1 1 0]\n",
      " [2 0 0]\n",
      " [0 0 2]\n",
      " [1 2 2]\n",
      " [2 1 1]\n",
      " [1 2 0]\n",
      " [1 2 0]]\n"
     ]
    }
   ],
   "source": [
    "# create a random 10x3 matrix\n",
    "mat = np.random.randint(0, 3, size=(10, 3))\n",
    "\n",
    "# create a boolean mask indicating which rows have at least one element\n",
    "# different from the first element of the row\n",
    "mask = ~np.all(mat == mat[:, None, 0], axis=-1)\n",
    "\n",
    "# extract the rows with unequal values\n",
    "unequal_rows = mat[mask]\n",
    "\n",
    "print(\"Original matrix:\\n\", mat)\n",
    "print(\"Rows with unequal values:\\n\", unequal_rows)\n"
   ]
  },
  {
   "cell_type": "markdown",
   "metadata": {},
   "source": [
    "#### 95. Convert a vector of ints into a matrix binary representation (★★★)"
   ]
  },
  {
   "cell_type": "code",
   "execution_count": 69,
   "metadata": {},
   "outputs": [],
   "source": [
    "def int_to_binary_matrix(vector):\n",
    "    # Convert each integer to 8-bit binary representation\n",
    "    binary = np.unpackbits(np.uint8(vector[:, np.newaxis]), axis=1)\n",
    "\n",
    "    # Reshape the binary matrix to have the same number of rows as the original vector\n",
    "    num_rows = vector.shape[0]\n",
    "    binary_matrix = np.reshape(binary, (num_rows, -1))\n",
    "\n",
    "    return binary_matrix\n"
   ]
  },
  {
   "cell_type": "code",
   "execution_count": 70,
   "metadata": {},
   "outputs": [
    {
     "name": "stdout",
     "output_type": "stream",
     "text": [
      "[[0 0 0 0 0 0 0 1]\n",
      " [0 0 0 0 0 0 1 0]\n",
      " [0 0 0 0 0 0 1 1]\n",
      " [0 0 0 0 0 1 0 0]\n",
      " [0 0 0 0 0 1 0 1]]\n"
     ]
    }
   ],
   "source": [
    "# Example input vector\n",
    "v = np.array([1, 2, 3, 4, 5])\n",
    "\n",
    "# Convert vector to binary matrix\n",
    "binary_matrix = int_to_binary_matrix(v)\n",
    "\n",
    "# Output the binary matrix\n",
    "print(binary_matrix)\n"
   ]
  },
  {
   "cell_type": "markdown",
   "metadata": {},
   "source": [
    "#### 96. Given a two dimensional array, how to extract unique rows? (★★★)"
   ]
  },
  {
   "cell_type": "code",
   "execution_count": 71,
   "metadata": {},
   "outputs": [
    {
     "name": "stdout",
     "output_type": "stream",
     "text": [
      "[[1 2 3]\n",
      " [4 5 6]\n",
      " [7 8 9]]\n"
     ]
    }
   ],
   "source": [
    "# create a 2D array with some duplicate rows\n",
    "arr = np.array([[1, 2, 3], [4, 5, 6], [1, 2, 3], [7, 8, 9], [4, 5, 6]])\n",
    "\n",
    "# use numpy.unique to extract unique rows\n",
    "unique_rows = np.unique(arr, axis=0)\n",
    "\n",
    "# print the result\n",
    "print(unique_rows)\n"
   ]
  },
  {
   "cell_type": "markdown",
   "metadata": {},
   "source": [
    "#### 97. Considering 2 vectors A & B, write the einsum equivalent of inner, outer, sum, and mul function (★★★)"
   ]
  },
  {
   "cell_type": "code",
   "execution_count": 73,
   "metadata": {},
   "outputs": [
    {
     "name": "stdout",
     "output_type": "stream",
     "text": [
      "32\n",
      "[[ 4  5  6]\n",
      " [ 8 10 12]\n",
      " [12 15 18]]\n",
      "6\n",
      "[ 4 10 18]\n"
     ]
    }
   ],
   "source": [
    "# inner product\n",
    "A = np.array([1, 2, 3])\n",
    "B = np.array([4, 5, 6])\n",
    "inner_product = np.einsum('i,i->', A, B)\n",
    "\n",
    "# outer product\n",
    "outer_product = np.einsum('i,j->ij', A, B)\n",
    "\n",
    "# sum\n",
    "sum_AB = np.einsum('i->', A)\n",
    "\n",
    "# elementwise multiplication\n",
    "mul_AB = np.einsum('i,i->i', A, B)\n",
    "\n",
    "print(inner_product)\n",
    "print(outer_product)\n",
    "print(sum_AB)\n",
    "print(mul_AB)"
   ]
  },
  {
   "cell_type": "markdown",
   "metadata": {},
   "source": [
    "#### 98. Considering a path described by two vectors (X,Y), how to sample it using equidistant samples (★★★)?"
   ]
  },
  {
   "cell_type": "code",
   "execution_count": 74,
   "metadata": {},
   "outputs": [
    {
     "name": "stdout",
     "output_type": "stream",
     "text": [
      "Sampled X values: [ 0.          0.31038772  0.62077543  0.93116315  1.48310172  2.10387716\n",
      "  2.72465259  3.27308483  3.7638509   4.32206782  4.94284325  5.56361868\n",
      "  6.14577634  6.63654241  7.12730848  7.61807455  8.13767371  8.75844914\n",
      "  9.37922457 10.        ]\n",
      "Sampled Y values: [0.         0.62077543 1.24155086 1.86232629 2.24155086 2.55193858\n",
      " 2.86232629 3.27308483 3.7638509  3.83896609 3.52857838 3.21819066\n",
      " 2.85422366 2.36345759 1.87269152 1.38192545 0.93116315 0.62077543\n",
      " 0.31038772 0.        ]\n"
     ]
    }
   ],
   "source": [
    "# Define the path (X,Y)\n",
    "X = np.array([0, 1, 3, 4, 6, 7, 8, 10])\n",
    "Y = np.array([0, 2, 3, 4, 3, 2, 1, 0])\n",
    "\n",
    "# Calculate the total length of the path\n",
    "path_length = np.cumsum(np.sqrt(np.diff(X)**2 + np.diff(Y)**2))\n",
    "path_length = np.insert(path_length, 0, 0)\n",
    "\n",
    "# Define the number of equidistant samples to take\n",
    "num_samples = 20\n",
    "\n",
    "# Generate equidistant samples along the path\n",
    "sample_points = np.linspace(0, path_length[-1], num_samples)\n",
    "sampled_X = np.interp(sample_points, path_length, X)\n",
    "sampled_Y = np.interp(sample_points, path_length, Y)\n",
    "\n",
    "# Print the sampled X and Y values\n",
    "print(\"Sampled X values:\", sampled_X)\n",
    "print(\"Sampled Y values:\", sampled_Y)\n"
   ]
  },
  {
   "cell_type": "markdown",
   "metadata": {},
   "source": [
    "#### 99. Given an integer n and a 2D array X, select from X the rows which can be interpreted as draws from a multinomial distribution with n degrees, i.e., the rows which only contain integers and which sum to n. (★★★)"
   ]
  },
  {
   "cell_type": "code",
   "execution_count": 78,
   "metadata": {},
   "outputs": [],
   "source": [
    "import numpy as np\n",
    "\n",
    "def multinomial_rows(n, X):\n",
    "    is_int = np.equal(np.mod(X, 1), 0)  # check if all elements are integers\n",
    "    sums = np.sum(X, axis=1)  # compute row sums\n",
    "    is_n = np.equal(sums.reshape(-1, 1), n)  # check if row sums are equal to n\n",
    "    is_multinomial = np.logical_and(is_int, is_n)  # combine the two conditions\n",
    "    return X[is_multinomial]\n"
   ]
  },
  {
   "cell_type": "code",
   "execution_count": 79,
   "metadata": {},
   "outputs": [
    {
     "name": "stdout",
     "output_type": "stream",
     "text": [
      "[1 2 2 2 2 1 3 1 1 0 0 5]\n"
     ]
    }
   ],
   "source": [
    "X = np.array([[1, 2, 2], [0, 5, 2], [2, 2, 1], [3, 1, 1], [0, 0, 5]])\n",
    "n = 5\n",
    "result = multinomial_rows(n, X)\n",
    "print(result)\n"
   ]
  },
  {
   "cell_type": "markdown",
   "metadata": {},
   "source": [
    "#### 100. Compute bootstrapped 95% confidence intervals for the mean of a 1D array X (i.e., resample the elements of an array with replacement N times, compute the mean of each sample, and then compute percentiles over the means). (★★★)"
   ]
  },
  {
   "cell_type": "code",
   "execution_count": 80,
   "metadata": {},
   "outputs": [],
   "source": [
    "import numpy as np\n",
    "\n",
    "def bootstrap_mean_ci(X, N=1000, alpha=0.05):\n",
    "    \"\"\"\n",
    "    Compute bootstrapped 95% confidence intervals for the mean of an array X.\n",
    "    \n",
    "    Parameters:\n",
    "    -----------\n",
    "    X : ndarray\n",
    "        The input 1D array.\n",
    "    N : int, optional (default=1000)\n",
    "        The number of resamples to use for bootstrapping.\n",
    "    alpha : float, optional (default=0.05)\n",
    "        The significance level (i.e., Type I error rate) for the confidence intervals.\n",
    "    \n",
    "    Returns:\n",
    "    --------\n",
    "    mean_ci : tuple of floats\n",
    "        The lower and upper bounds of the bootstrapped 95% confidence intervals for the mean of X.\n",
    "    \"\"\"\n",
    "    # Initialize an empty array to hold the bootstrap sample means\n",
    "    sample_means = np.empty(N)\n",
    "    \n",
    "    # Generate N bootstrap samples and compute their means\n",
    "    for i in range(N):\n",
    "        sample = np.random.choice(X, size=len(X), replace=True)\n",
    "        sample_means[i] = np.mean(sample)\n",
    "    \n",
    "    # Compute the percentile-based confidence intervals\n",
    "    lower_ci = np.percentile(sample_means, 100 * alpha / 2)\n",
    "    upper_ci = np.percentile(sample_means, 100 * (1 - alpha / 2))\n",
    "    \n",
    "    return lower_ci, upper_ci\n"
   ]
  },
  {
   "cell_type": "code",
   "execution_count": 81,
   "metadata": {},
   "outputs": [
    {
     "name": "stdout",
     "output_type": "stream",
     "text": [
      "Bootstrapped 95% confidence intervals for the mean of X: (-0.431, 0.000)\n"
     ]
    }
   ],
   "source": [
    "# Generate an example array X\n",
    "X = np.random.normal(loc=0, scale=1, size=100)\n",
    "\n",
    "# Compute the bootstrapped 95% confidence intervals for the mean of X\n",
    "lower_ci, upper_ci = bootstrap_mean_ci(X, N=1000, alpha=0.05)\n",
    "\n",
    "# Print the confidence intervals\n",
    "print(f\"Bootstrapped 95% confidence intervals for the mean of X: ({lower_ci:.3f}, {upper_ci:.3f})\")\n"
   ]
  }
 ],
 "metadata": {
  "kernelspec": {
   "display_name": "Python 3",
   "language": "python",
   "name": "python3"
  },
  "language_info": {
   "codemirror_mode": {
    "name": "ipython",
    "version": 3
   },
   "file_extension": ".py",
   "mimetype": "text/x-python",
   "name": "python",
   "nbconvert_exporter": "python",
   "pygments_lexer": "ipython3",
   "version": "3.10.10"
  }
 },
 "nbformat": 4,
 "nbformat_minor": 4
}
